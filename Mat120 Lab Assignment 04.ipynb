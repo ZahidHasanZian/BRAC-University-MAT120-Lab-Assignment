{
  "nbformat": 4,
  "nbformat_minor": 0,
  "metadata": {
    "colab": {
      "provenance": []
    },
    "kernelspec": {
      "name": "python3",
      "display_name": "Python 3"
    },
    "language_info": {
      "name": "python"
    }
  },
  "cells": [
    {
      "cell_type": "markdown",
      "source": [
        "**Reference model**\n",
        "\n",
        "\\begin{cases} y'' + a y' + b y= f(x) \\\\ y(0)= y_0 \\\\ y'(0)= y_0'\\end{cases}\n",
        "\n",
        "*Example*\n",
        "\n",
        "**Differential equation:**\n",
        "\n",
        "\\begin{cases} y'' + 9y = 0\\,, \\\\ y\\left({\\pi\\over 4}\\right)= 0\\,, \\\\ y'\\left({\\pi\\over 4}\\right)= 3\\sqrt{2}\\,.\\end{cases}\n",
        "\n",
        "\n",
        "**General solution:**\n",
        "\n",
        "y =\n",
        "​\n",
        " C1 cos(3x)+C2 sin(3x)\n",
        "  \n",
        "\n",
        "**​Solution (with initial condition):**\n",
        "\n",
        "y= − cos(3x) − sin(3x)\n",
        " \n",
        "\n",
        "\n",
        "\n",
        "​\n",
        " \n",
        "\n"
      ],
      "metadata": {
        "id": "c9yhEAufcJAB"
      }
    },
    {
      "cell_type": "markdown",
      "source": [
        "**Initialization and symbolic variables**"
      ],
      "metadata": {
        "id": "i0hvZhgOd35h"
      }
    },
    {
      "cell_type": "code",
      "execution_count": null,
      "metadata": {
        "id": "zcY_qDkIbXk3"
      },
      "outputs": [],
      "source": [
        "#Importing Symbolic library and its initialization\n",
        "\n",
        "import sympy as sy\n",
        "sy.init_printing()\n",
        "#from sympy.plotting import plot\n",
        "\n",
        "#Some common variables declaration\n",
        "\n",
        "x = sy.symbols('x')\n",
        "\n",
        "y = sy.Function('y')\n",
        "\n",
        "y1 = sy.Derivative(y(x), x)\n",
        "\n",
        "y2 = sy.Derivative(y(x), x, x)"
      ]
    },
    {
      "cell_type": "markdown",
      "source": [
        "**General solution**"
      ],
      "metadata": {
        "id": "xx1t1C-id71v"
      }
    },
    {
      "cell_type": "code",
      "source": [
        "#General solution without the initial value\n",
        "\n",
        "#Definiting the expression\n",
        "\n",
        "eqdiff = y2 + 9*y(x)\n",
        "\n",
        "#Solution\n",
        "\n",
        "eq=sy.dsolve(eqdiff, y(x))\n",
        "\n",
        "sy.pprint(eq)"
      ],
      "metadata": {
        "colab": {
          "base_uri": "https://localhost:8080/"
        },
        "id": "c5b-Mkbad-8S",
        "outputId": "162eb625-4826-4401-d23a-e6a95d056407"
      },
      "execution_count": null,
      "outputs": [
        {
          "output_type": "stream",
          "name": "stdout",
          "text": [
            "y(x) = C₁⋅sin(3⋅x) + C₂⋅cos(3⋅x)\n"
          ]
        }
      ]
    },
    {
      "cell_type": "markdown",
      "source": [
        "***Task 1***: Solve the second order differential equation $y''+ 16y = 0$\n"
      ],
      "metadata": {
        "id": "EWMVnAY87nHV"
      }
    },
    {
      "cell_type": "markdown",
      "source": [
        "**Solution with the initial condition**"
      ],
      "metadata": {
        "id": "Ru9IfFWheBNP"
      }
    },
    {
      "cell_type": "code",
      "source": [
        "#Solution with the given initial condition\n",
        "\n",
        "x0 = sy.pi/4\n",
        "sol = sy.dsolve(eqdiff, y(x), ics={y(x0): 0, y(x).diff(x).subs(x, x0): 3*sy.sqrt(2)})\n",
        "\n",
        "sy.pprint(sol)"
      ],
      "metadata": {
        "colab": {
          "base_uri": "https://localhost:8080/"
        },
        "id": "8Y7v_ZwieDln",
        "outputId": "eb3ee019-4d86-46ff-8109-fa6c5e609f6f"
      },
      "execution_count": null,
      "outputs": [
        {
          "output_type": "stream",
          "name": "stdout",
          "text": [
            "y(x) = -sin(3⋅x) - cos(3⋅x)\n"
          ]
        }
      ]
    },
    {
      "cell_type": "markdown",
      "source": [
        "Task 2: Solve the initial-value problem\n",
        "\n",
        "y′′−y′+6y=0 \n",
        "\n",
        "y(0)=1  and  y′(0)=0"
      ],
      "metadata": {
        "id": "TY8iqxBY7ulk"
      }
    },
    {
      "cell_type": "markdown",
      "source": [
        "**Assignment 4**"
      ],
      "metadata": {
        "id": "MvNdAwskhGdF"
      }
    },
    {
      "cell_type": "markdown",
      "source": [
        "***Question 1***: Solve the second order differential equation $y''+ 16y = 0$\n",
        "\n",
        "***Question 2***: Solve the 2nd order differential equation $y'' - 6y' + 5y = 0$\n",
        "\n",
        "***Question 3***: Solve the initial-value problem \n",
        "\n",
        "$y'' - y' + 6y = 0$\n",
        "\n",
        "$y(0)=1$ and $y'(0)=0$"
      ],
      "metadata": {
        "id": "KgAbyxgzhN6N"
      }
    }
  ]
}