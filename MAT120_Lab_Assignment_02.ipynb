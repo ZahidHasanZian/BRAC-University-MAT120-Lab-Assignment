{
  "nbformat": 4,
  "nbformat_minor": 0,
  "metadata": {
    "colab": {
      "provenance": []
    },
    "kernelspec": {
      "name": "python3",
      "display_name": "Python 3"
    },
    "language_info": {
      "name": "python"
    }
  },
  "cells": [
    {
      "cell_type": "code",
      "source": [
        "MAT 120 Assignmnet 2"
      ],
      "metadata": {
        "id": "ANNJO1pWCT2I"
      },
      "execution_count": null,
      "outputs": []
    },
    {
      "cell_type": "code",
      "execution_count": null,
      "metadata": {
        "colab": {
          "base_uri": "https://localhost:8080/",
          "height": 127
        },
        "id": "InZejJvn2eKN",
        "outputId": "6c6ad3cd-494b-420e-cbff-2264d8d23e90"
      },
      "outputs": [
        {
          "output_type": "execute_result",
          "data": {
            "text/plain": [
              "Piecewise((0, Eq(a, 0) & Eq(b, 0)), (-I*(x*exp(-b*x)*sinh(b*x)/2 + x*exp(-b*x)*cosh(b*x)/2 + exp(-b*x)*cosh(b*x)/(2*b)), Eq(a, -I*b)), (I*(x*exp(-b*x)*sinh(b*x)/2 + x*exp(-b*x)*cosh(b*x)/2 + exp(-b*x)*cosh(b*x)/(2*b)), Eq(a, I*b)), (-a*cos(a*x)/(a**2*exp(b*x) + b**2*exp(b*x)) - b*sin(a*x)/(a**2*exp(b*x) + b**2*exp(b*x)), True))"
            ],
            "text/latex": "$\\displaystyle \\begin{cases} 0 & \\text{for}\\: a = 0 \\wedge b = 0 \\\\- i \\left(\\frac{x e^{- b x} \\sinh{\\left(b x \\right)}}{2} + \\frac{x e^{- b x} \\cosh{\\left(b x \\right)}}{2} + \\frac{e^{- b x} \\cosh{\\left(b x \\right)}}{2 b}\\right) & \\text{for}\\: a = - i b \\\\i \\left(\\frac{x e^{- b x} \\sinh{\\left(b x \\right)}}{2} + \\frac{x e^{- b x} \\cosh{\\left(b x \\right)}}{2} + \\frac{e^{- b x} \\cosh{\\left(b x \\right)}}{2 b}\\right) & \\text{for}\\: a = i b \\\\- \\frac{a \\cos{\\left(a x \\right)}}{a^{2} e^{b x} + b^{2} e^{b x}} - \\frac{b \\sin{\\left(a x \\right)}}{a^{2} e^{b x} + b^{2} e^{b x}} & \\text{otherwise} \\end{cases}$"
          },
          "metadata": {},
          "execution_count": 4
        }
      ],
      "source": [
        "#task 1\n",
        "\n",
        "#importing sympy\n",
        "from sympy import*\n",
        "\n",
        "#importing symbol\n",
        "x= symbols(\"x\")\n",
        "a= symbols(\"a\")\n",
        "b= symbols(\"b\")\n",
        "\n",
        "#my function\n",
        "f= sin(a*x)*exp(-b*x)\n",
        "integrate(f,x)"
      ]
    },
    {
      "cell_type": "markdown",
      "source": [
        "infinity 2 vabe lekha jay\n",
        "\n",
        "np.inf\n",
        "\n",
        "oo"
      ],
      "metadata": {
        "id": "mATpaTaZ9zOx"
      }
    },
    {
      "cell_type": "code",
      "source": [
        "#task 2\n",
        "\n",
        "from sympy import*\n",
        "x= symbols(\"x\")\n",
        "\n",
        "import numpy as np\n",
        "import scipy as sp\n",
        "from scipy.integrate import quad\n",
        "\n",
        "f= lambda x : np.arcsin(2*x)/1+x**2\n",
        "quad(f,0,oo)"
      ],
      "metadata": {
        "colab": {
          "base_uri": "https://localhost:8080/"
        },
        "id": "QOp2q3It4YSO",
        "outputId": "1b39d76b-c892-4d1a-8638-a131fef4176f"
      },
      "execution_count": null,
      "outputs": [
        {
          "output_type": "stream",
          "name": "stderr",
          "text": [
            "/usr/local/lib/python3.7/dist-packages/ipykernel_launcher.py:8: RuntimeWarning: invalid value encountered in arcsin\n",
            "  \n",
            "/usr/local/lib/python3.7/dist-packages/ipykernel_launcher.py:9: IntegrationWarning: The occurrence of roundoff error is detected, which prevents \n",
            "  the requested tolerance from being achieved.  The error may be \n",
            "  underestimated.\n",
            "  if __name__ == '__main__':\n"
          ]
        },
        {
          "output_type": "execute_result",
          "data": {
            "text/plain": [
              "(nan, nan)"
            ]
          },
          "metadata": {},
          "execution_count": 7
        }
      ]
    },
    {
      "cell_type": "code",
      "source": [
        "#task 3\n",
        "import numpy\n",
        "#importing \n",
        "from sympy import*\n",
        "from scipy.integrate import quad\n",
        "\n",
        "#importing symbol\n",
        "x= symbols(\"x\")\n",
        "a= symbols(\"a\")\n",
        "b= symbols(\"b\")\n",
        "\n",
        "#my function\n",
        "f= lambda x: 1/((a-cos(x))**2+(b-sin(x))**2)\n",
        "a,b=1,1\n",
        "quad(f,0,2*pi)\n"
      ],
      "metadata": {
        "colab": {
          "base_uri": "https://localhost:8080/"
        },
        "id": "fAnVPPwm9vyt",
        "outputId": "8a5f49ee-2887-4c6a-9df2-7f19982e1d39"
      },
      "execution_count": null,
      "outputs": [
        {
          "output_type": "execute_result",
          "data": {
            "text/plain": [
              "(6.283185307179586, 7.531259893500675e-09)"
            ]
          },
          "metadata": {},
          "execution_count": 3
        }
      ]
    },
    {
      "cell_type": "code",
      "source": [
        "#task 4\n",
        "\n",
        "from sympy import*\n",
        "x= symbols(\"x\")\n",
        "\n",
        "import numpy as np\n",
        "import scipy as sp\n",
        "from scipy.integrate import quad\n",
        "\n",
        "f= lambda x : np.arccos(2*x)/1+x**2\n",
        "quad(f,0,oo)\n"
      ],
      "metadata": {
        "colab": {
          "base_uri": "https://localhost:8080/"
        },
        "id": "E422Mqj6-06t",
        "outputId": "3c3dc169-68fd-4ab9-c4d5-7affdbfce3a6"
      },
      "execution_count": null,
      "outputs": [
        {
          "output_type": "stream",
          "name": "stderr",
          "text": [
            "/usr/local/lib/python3.7/dist-packages/ipykernel_launcher.py:10: RuntimeWarning: invalid value encountered in arccos\n",
            "  # Remove the CWD from sys.path while we load stuff.\n",
            "/usr/local/lib/python3.7/dist-packages/ipykernel_launcher.py:11: IntegrationWarning: The occurrence of roundoff error is detected, which prevents \n",
            "  the requested tolerance from being achieved.  The error may be \n",
            "  underestimated.\n",
            "  # This is added back by InteractiveShellApp.init_path()\n"
          ]
        },
        {
          "output_type": "execute_result",
          "data": {
            "text/plain": [
              "(nan, nan)"
            ]
          },
          "metadata": {},
          "execution_count": 13
        }
      ]
    },
    {
      "cell_type": "code",
      "source": [
        "#task 5\n",
        "from sympy import*\n",
        "x= symbols(\"x\")\n",
        "f= x*exp(6*x)\n",
        "integrate(f,(x,-1,2))"
      ],
      "metadata": {
        "id": "6_PZnHJJ_bIm",
        "colab": {
          "base_uri": "https://localhost:8080/",
          "height": 54
        },
        "outputId": "9b8fdfc1-94a8-40e7-f4cc-03efa87f27f4"
      },
      "execution_count": null,
      "outputs": [
        {
          "output_type": "execute_result",
          "data": {
            "text/plain": [
              "7*exp(-6)/36 + 11*exp(12)/36"
            ],
            "text/latex": "$\\displaystyle \\frac{7}{36 e^{6}} + \\frac{11 e^{12}}{36}$"
          },
          "metadata": {},
          "execution_count": 5
        }
      ]
    },
    {
      "cell_type": "code",
      "source": [],
      "metadata": {
        "id": "BpWQ7snO95Bp"
      },
      "execution_count": null,
      "outputs": []
    }
  ]
}