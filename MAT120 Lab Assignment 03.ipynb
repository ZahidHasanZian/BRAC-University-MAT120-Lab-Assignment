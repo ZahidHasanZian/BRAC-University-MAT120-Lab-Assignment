{
  "nbformat": 4,
  "nbformat_minor": 0,
  "metadata": {
    "colab": {
      "provenance": []
    },
    "kernelspec": {
      "name": "python3",
      "display_name": "Python 3"
    },
    "language_info": {
      "name": "python"
    }
  },
  "cells": [
    {
      "cell_type": "markdown",
      "source": [
        "First order differential equations\n",
        "\n",
        "\n",
        "Reference model\n",
        "\\begin{cases} y' = f(x,y) \\\\ y(0)= y_0\\end{cases}\n",
        "\n",
        "Example\n",
        "Differential equation:\n",
        "\n",
        "\\begin{cases} y' = -{y^2\\over x^2} \\\\ y(1)= {1\\over 2}\\end{cases}\n",
        "\n",
        "\n",
        "\n",
        "​Analytical solution in Python (SymPy):\n"
      ],
      "metadata": {
        "id": "bxRjJeqjdsWq"
      }
    },
    {
      "cell_type": "markdown",
      "source": [],
      "metadata": {
        "id": "JkIEJotnuBFR"
      }
    },
    {
      "cell_type": "markdown",
      "source": [
        "\n",
        "**Initialization and symbolic variables**"
      ],
      "metadata": {
        "id": "ifHUPcNofObo"
      }
    },
    {
      "cell_type": "code",
      "source": [
        "# Symbolic library and its initialization\n",
        "import sympy as sy\n",
        "\n",
        "sy.init_printing() #If all you want is the best pretty printing, use the init_printing() function. This will automatically enable the best printer available in your\n",
        "\n",
        "# For function plot\n",
        "from sympy.plotting import plot\n",
        "\n",
        "# Some common variables\n",
        "x = sy.symbols('x')\n",
        "\n",
        "y = sy.Function('y')\n",
        "y1 = sy.Derivative(y(x), x)\n",
        "\n",
        "#print(y1)"
      ],
      "metadata": {
        "id": "CEm5TRvqfN25"
      },
      "execution_count": null,
      "outputs": []
    },
    {
      "cell_type": "markdown",
      "source": [
        "**General solution**"
      ],
      "metadata": {
        "id": "Ek1Qw59LfbSH"
      }
    },
    {
      "cell_type": "code",
      "source": [
        "# General solution\n",
        "\n",
        "# Definition\n",
        "eqdiff = y1 + (y(x)**2)/x**2\n",
        "\n",
        "# Solution\n",
        "sol = sy.solve(eqdiff, y(x)) #dsolve returns an instance of Eq . This is because in general, solutions to differential equations cannot be solved explicitly for the function.\n",
        "\n",
        "# Print\n",
        "sy.pprint(sol)"
      ],
      "metadata": {
        "colab": {
          "base_uri": "https://localhost:8080/"
        },
        "id": "vbuGIb9YfbCv",
        "outputId": "d67133ac-3d32-4435-9462-a7dbeeca48fa"
      },
      "execution_count": null,
      "outputs": [
        {
          "output_type": "stream",
          "name": "stdout",
          "text": [
            "⎡       ___________        ___________⎤\n",
            "⎢      ╱  d               ╱  d        ⎥\n",
            "⎢-x⋅  ╱  -──(y(x)) , x⋅  ╱  -──(y(x)) ⎥\n",
            "⎣   ╲╱    dx           ╲╱    dx       ⎦\n"
          ]
        }
      ]
    },
    {
      "cell_type": "markdown",
      "source": [
        "**Task 1**\n",
        "Solve the differential equation \n",
        "$y\n",
        "′\n",
        "=\n",
        "2\n",
        "t\n",
        "(\n",
        "25\n",
        "−\n",
        "y\n",
        ")$\n",
        "."
      ],
      "metadata": {
        "id": "08H7hFpBP7as"
      }
    },
    {
      "cell_type": "markdown",
      "source": [],
      "metadata": {
        "id": "AuygA_wt1MQP"
      }
    },
    {
      "cell_type": "markdown",
      "source": [
        "**Solution with the initial condition**"
      ],
      "metadata": {
        "id": "eidjtkvjf3bY"
      }
    },
    {
      "cell_type": "code",
      "source": [
        "# Solution with the given initial conditions\n",
        "sol = sy.dsolve(eqdiff, y(x),ics={y(1): '1/2'}) #initial conditions\n",
        "sy.pprint(sol)\n"
      ],
      "metadata": {
        "colab": {
          "base_uri": "https://localhost:8080/"
        },
        "id": "JUDpZY9Ff3Mq",
        "outputId": "77cfc9c4-8d04-477c-eba2-03ef6bb1c01f"
      },
      "execution_count": null,
      "outputs": [
        {
          "output_type": "stream",
          "name": "stdout",
          "text": [
            "         -x   \n",
            "y(x) = ───────\n",
            "       1 - 3⋅x\n"
          ]
        }
      ]
    },
    {
      "cell_type": "markdown",
      "source": [
        "**Task 2:** Solve the initial value problem:\n",
        "$d\n",
        "y/\n",
        "d\n",
        "x\n",
        "=\n",
        "2\n",
        "x\n",
        ",\n",
        "y\n",
        "(\n",
        "0\n",
        ")\n",
        "=\n",
        "2$\n",
        "."
      ],
      "metadata": {
        "id": "5Z76SmLkQIi7"
      }
    },
    {
      "cell_type": "markdown",
      "source": [
        "**Plot and svg**"
      ],
      "metadata": {
        "id": "84E-_QmBgF5B"
      }
    },
    {
      "cell_type": "code",
      "source": [
        "# Plotting\n",
        "\n",
        "\n",
        "#title = sy.latex(sol.rhs)\n",
        "xtol = 1e-3\n",
        "p1 = plot(sol.rhs, (x,-1,1/3-xtol), show=False, ylim=[-10,10],) #sol.rhs will return a SymPy Float object.\n",
        "p2 = plot(sol.rhs, (x,1/3+xtol,1), show=False, ylim=[-10,10])\n",
        "p1.extend(p2)\n",
        "p1.show()\n",
        "\n",
        "# Save in svg format\n",
        "#p1.save(\"ode-1.svg\")"
      ],
      "metadata": {
        "colab": {
          "base_uri": "https://localhost:8080/",
          "height": 297
        },
        "id": "7f_E8Nc-gFQg",
        "outputId": "798162e7-961f-4a8c-e01e-5b4d9a2d5938"
      },
      "execution_count": null,
      "outputs": [
        {
          "output_type": "display_data",
          "data": {
            "text/plain": [
              "<Figure size 432x288 with 1 Axes>"
            ],
            "image/png": "[encoded data removed]"
          },
          "metadata": {
            "needs_background": "light"
          }
        }
      ]
    },
    {
      "cell_type": "markdown",
      "source": [
        "**Plot using matplotlib**"
      ],
      "metadata": {
        "id": "HVEMy2bWglRM"
      }
    },
    {
      "cell_type": "code",
      "source": [
        "# plot using matplotlib\n",
        "f = sy.lambdify(x, sol.rhs, 'numpy')\n",
        "\n",
        "import numpy as np\n",
        "import matplotlib.pyplot as plt\n",
        "\n",
        "x1 = np.linspace(-1, 1/3-xtol, num=100) #You can use numpy.linspace() to create the values of the x axis\n",
        "x2 = np.linspace(1/3+xtol, 2, num=100)\n",
        "\n",
        "plt.plot(x1, f(x1), '-', c='C0')\n",
        "plt.plot(x2, f(x2), '-', c='C0')\n",
        "plt.ylim(-10,10)\n",
        "plt.savefig(\"ode-1-mpl.svg\")\n",
        "plt.show()"
      ],
      "metadata": {
        "colab": {
          "base_uri": "https://localhost:8080/",
          "height": 269
        },
        "id": "iv6pgZFcgk_w",
        "outputId": "e3758f16-cc56-43f4-d7f9-c0457fcf9bc2"
      },
      "execution_count": null,
      "outputs": [
        {
          "output_type": "display_data",
          "data": {
            "text/plain": [
              "<Figure size 432x288 with 1 Axes>"
            ],
            "image/png": "[encoded data removed]"
          },
          "metadata": {
            "needs_background": "light"
          }
        }
      ]
    },
    {
      "cell_type": "markdown",
      "source": [
        "**Numerical solution in Python (SciPy)**\n",
        "\n",
        "Initialization and equation in the standard solver format"
      ],
      "metadata": {
        "id": "pqvcJTwPhxIQ"
      }
    },
    {
      "cell_type": "code",
      "execution_count": null,
      "metadata": {
        "id": "Epg6HlEwddDD"
      },
      "outputs": [],
      "source": [
        "# Libraries\n",
        "import numpy as np\n",
        "import matplotlib.pyplot as plt\n",
        "from scipy.integrate import odeint\n",
        "\n",
        "# Model\n",
        "def model(y, t):\n",
        "    dydt = -y**2/t**2\n",
        "    return dydt"
      ]
    },
    {
      "cell_type": "markdown",
      "source": [
        "**Numerical solution in a given interval**"
      ],
      "metadata": {
        "id": "3dvLJ-0wiUH9"
      }
    },
    {
      "cell_type": "code",
      "source": [
        "# Solution\n",
        "t = np.linspace(1, 10, 100)\n",
        "y0 = 1/2\n",
        "sol = odeint(model, y0, t)\n",
        "\n",
        "print(t,sol)"
      ],
      "metadata": {
        "colab": {
          "base_uri": "https://localhost:8080/"
        },
        "id": "H26DKJSna-74",
        "outputId": "11a82dd3-0e8b-4aa0-d014-cffaef82ba5f"
      },
      "execution_count": null,
      "outputs": [
        {
          "output_type": "stream",
          "name": "stdout",
          "text": [
            "[ 1.          1.09090909  1.18181818  1.27272727  1.36363636  1.45454545\n",
            "  1.54545455  1.63636364  1.72727273  1.81818182  1.90909091  2.\n",
            "  2.09090909  2.18181818  2.27272727  2.36363636  2.45454545  2.54545455\n",
            "  2.63636364  2.72727273  2.81818182  2.90909091  3.          3.09090909\n",
            "  3.18181818  3.27272727  3.36363636  3.45454545  3.54545455  3.63636364\n",
            "  3.72727273  3.81818182  3.90909091  4.          4.09090909  4.18181818\n",
            "  4.27272727  4.36363636  4.45454545  4.54545455  4.63636364  4.72727273\n",
            "  4.81818182  4.90909091  5.          5.09090909  5.18181818  5.27272727\n",
            "  5.36363636  5.45454545  5.54545455  5.63636364  5.72727273  5.81818182\n",
            "  5.90909091  6.          6.09090909  6.18181818  6.27272727  6.36363636\n",
            "  6.45454545  6.54545455  6.63636364  6.72727273  6.81818182  6.90909091\n",
            "  7.          7.09090909  7.18181818  7.27272727  7.36363636  7.45454545\n",
            "  7.54545455  7.63636364  7.72727273  7.81818182  7.90909091  8.\n",
            "  8.09090909  8.18181818  8.27272727  8.36363636  8.45454545  8.54545455\n",
            "  8.63636364  8.72727273  8.81818182  8.90909091  9.          9.09090909\n",
            "  9.18181818  9.27272727  9.36363636  9.45454545  9.54545455  9.63636364\n",
            "  9.72727273  9.81818182  9.90909091 10.        ] [[0.5       ]\n",
            " [0.48000002]\n",
            " [0.46428574]\n",
            " [0.45161293]\n",
            " [0.4411765 ]\n",
            " [0.43243245]\n",
            " [0.42500002]\n",
            " [0.41860466]\n",
            " [0.41304349]\n",
            " [0.40816327]\n",
            " [0.40384616]\n",
            " [0.4       ]\n",
            " [0.39655172]\n",
            " [0.39344262]\n",
            " [0.390625  ]\n",
            " [0.3880597 ]\n",
            " [0.38571428]\n",
            " [0.38356163]\n",
            " [0.38157894]\n",
            " [0.37974682]\n",
            " [0.37804877]\n",
            " [0.37647057]\n",
            " [0.37499998]\n",
            " [0.37362636]\n",
            " [0.37234041]\n",
            " [0.371134  ]\n",
            " [0.36999998]\n",
            " [0.36893202]\n",
            " [0.3679245 ]\n",
            " [0.36697245]\n",
            " [0.3660714 ]\n",
            " [0.36521737]\n",
            " [0.36440675]\n",
            " [0.36363634]\n",
            " [0.3629032 ]\n",
            " [0.3622047 ]\n",
            " [0.36153843]\n",
            " [0.36090223]\n",
            " [0.36029409]\n",
            " [0.3597122 ]\n",
            " [0.3591549 ]\n",
            " [0.35862066]\n",
            " [0.35810808]\n",
            " [0.35761586]\n",
            " [0.35714282]\n",
            " [0.35668786]\n",
            " [0.35624997]\n",
            " [0.35582819]\n",
            " [0.35542165]\n",
            " [0.35502955]\n",
            " [0.35465113]\n",
            " [0.35428568]\n",
            " [0.35393255]\n",
            " [0.35359112]\n",
            " [0.35326083]\n",
            " [0.35294114]\n",
            " [0.35263154]\n",
            " [0.35233157]\n",
            " [0.35204078]\n",
            " [0.35175875]\n",
            " [0.35148511]\n",
            " [0.35121947]\n",
            " [0.3509615 ]\n",
            " [0.35071086]\n",
            " [0.35046725]\n",
            " [0.35023037]\n",
            " [0.34999996]\n",
            " [0.34977574]\n",
            " [0.34955748]\n",
            " [0.34934494]\n",
            " [0.34913789]\n",
            " [0.34893613]\n",
            " [0.34873945]\n",
            " [0.34854767]\n",
            " [0.34836061]\n",
            " [0.34817809]\n",
            " [0.34799995]\n",
            " [0.34782604]\n",
            " [0.3476562 ]\n",
            " [0.3474903 ]\n",
            " [0.3473282 ]\n",
            " [0.34716976]\n",
            " [0.34701488]\n",
            " [0.34686342]\n",
            " [0.34671528]\n",
            " [0.34657035]\n",
            " [0.34642852]\n",
            " [0.3462897 ]\n",
            " [0.3461538 ]\n",
            " [0.34602071]\n",
            " [0.34589036]\n",
            " [0.34576266]\n",
            " [0.34563753]\n",
            " [0.3455149 ]\n",
            " [0.34539469]\n",
            " [0.34527682]\n",
            " [0.34516124]\n",
            " [0.34504787]\n",
            " [0.34493666]\n",
            " [0.34482754]]\n"
          ]
        }
      ]
    },
    {
      "cell_type": "markdown",
      "source": [
        "**Plot and svg export**"
      ],
      "metadata": {
        "id": "kd51sdbXimZG"
      }
    },
    {
      "cell_type": "code",
      "source": [
        "# plot\n",
        "#plt.figure(figsize=(11,9))\n",
        "plt.plot(t,sol, label=\"y\")\n",
        "plt.legend()\n",
        "\n",
        "# Save in svg format\n",
        "plt.savefig(\"ode_num-1.svg\")\n",
        "plt.show()"
      ],
      "metadata": {
        "colab": {
          "base_uri": "https://localhost:8080/",
          "height": 265
        },
        "id": "S5sC_ktMbB_A",
        "outputId": "97f59317-a182-4b95-bf05-fd3e65fd1fc7"
      },
      "execution_count": null,
      "outputs": [
        {
          "output_type": "display_data",
          "data": {
            "text/plain": [
              "<Figure size 432x288 with 1 Axes>"
            ],
            "image/png": "[encoded data removed]"
          },
          "metadata": {
            "needs_background": "light"
          }
        }
      ]
    },
    {
      "cell_type": "markdown",
      "source": [
        "***ASSIGNMENT***"
      ],
      "metadata": {
        "id": "BG0vyngKpzwT"
      }
    },
    {
      "cell_type": "markdown",
      "source": [
        "**QUESTION1:**\n",
        "Solve the differential equation \n",
        "$y\n",
        "′\n",
        "=\n",
        "2\n",
        "t\n",
        "(\n",
        "25\n",
        "−\n",
        "y\n",
        ")$\n",
        "."
      ],
      "metadata": {
        "id": "ouFDGPtvqbNy"
      }
    },
    {
      "cell_type": "markdown",
      "source": [
        "**QUESTION2:** Solve the initial value problem:\n",
        "$d\n",
        "y/\n",
        "d\n",
        "x\n",
        "=\n",
        "2\n",
        "x\n",
        ",\n",
        "y\n",
        "(\n",
        "0\n",
        ")\n",
        "=\n",
        "2$\n",
        "."
      ],
      "metadata": {
        "id": "nXKJiu-RrCtp"
      }
    },
    {
      "cell_type": "markdown",
      "source": [
        "**QUESTION3:**\n",
        "Consider the equation of a freely falling object\n",
        "$dv/\n",
        "dt\n",
        "= g – bv^2$\n",
        "1. Solve the differential equation where Take $b = 1$ and $g = 10$\n",
        "2. Plot $v$ vs $t$\n",
        "3. Plot $b$ vs $t$ in different values of $b$, i.e $b = 1,$ $b = 2,$ $b = 3$, $b = -4$, and $b = -2$."
      ],
      "metadata": {
        "id": "prcd1kiurmAx"
      }
    }
  ]
}